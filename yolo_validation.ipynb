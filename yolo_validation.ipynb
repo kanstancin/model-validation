{
 "cells": [
  {
   "cell_type": "code",
   "execution_count": 2,
   "metadata": {},
   "outputs": [],
   "source": [
    "import matplotlib.pyplot as plt\n",
    "import numpy as np\n",
    "import os\n",
    "import pandas as pd\n",
    "\n",
    "from glob import glob"
   ]
  },
  {
   "cell_type": "code",
   "execution_count": 3,
   "metadata": {},
   "outputs": [
    {
     "data": {
      "text/plain": [
       "'3.8.10 (default, Nov 26 2021, 20:14:08) \\n[GCC 9.3.0]'"
      ]
     },
     "execution_count": 3,
     "metadata": {},
     "output_type": "execute_result"
    }
   ],
   "source": [
    "import sys\n",
    "sys.version"
   ]
  },
  {
   "cell_type": "code",
   "execution_count": 50,
   "metadata": {},
   "outputs": [],
   "source": [
    "# path to detectin results\n",
    "detect_res_path = \"detection_res_darknet/\"\n",
    "detect_labels_res_path = os.path.join(detect_res_path, \"labels\")\n",
    "\n",
    "# path to true labels\n",
    "true_labeled_imgs_path = \"../create_train_set/data/rgb_images_spag_&_bckg\"\n",
    "true_labels_path = \"yolo-labels/\""
   ]
  },
  {
   "cell_type": "code",
   "execution_count": 51,
   "metadata": {},
   "outputs": [],
   "source": [
    "detect_res_img_paths = glob(os.path.join(detect_res_path, \"*\"))\n",
    "detect_txt_res_paths = glob(os.path.join(detect_labels_res_path, \"*\"))\n",
    "\n",
    "true_labeled_img_paths = glob(os.path.join(true_labeled_imgs_path, \"*\"))\n",
    "true_labels_paths = glob(os.path.join(true_labels_path, \"*\"))"
   ]
  },
  {
   "cell_type": "code",
   "execution_count": 52,
   "metadata": {},
   "outputs": [],
   "source": [
    "detect_res_img_paths = [name for name in detect_res_img_paths if \".\" in name]"
   ]
  },
  {
   "cell_type": "code",
   "execution_count": 53,
   "metadata": {},
   "outputs": [],
   "source": [
    "def get_basename_no_ext(inp):\n",
    "    return os.path.splitext(os.path.basename(inp[0]))[0]\n",
    "\n",
    "def get_basenames_no_ext_arr(arr):\n",
    "    arr_base = np.array(arr).reshape(-1,1)\n",
    "    arr_base = [os.path.splitext(os.path.basename(inp[0]))[0] for inp in arr_base]\n",
    "#     arr_base = np.apply_along_axis(get_basename_no_ext, 1, arr_base)\n",
    "    return arr_base\n",
    "\n",
    "def read_conf(img_name, detect_txt_res_paths):\n",
    "    detect_txt_res_paths_base = get_basenames_no_ext_arr(detect_txt_res_paths)\n",
    "    img_name_no_ext = os.path.splitext(os.path.basename(img_name))[0]\n",
    "#     print(detect_txt_res_paths_base)\n",
    "    if img_name_no_ext not in detect_txt_res_paths_base:\n",
    "        return None\n",
    "    txt_path = f\"{os.path.dirname(detect_txt_res_paths[0])}/{img_name_no_ext}.txt\"\n",
    "    conf = []\n",
    "    with open(txt_path) as fp:\n",
    "        for line in fp:\n",
    "            line = line.split(\" \")\n",
    "            if len(line) == 5:\n",
    "                # print(\"ERROR: no conf saved\")\n",
    "                continue\n",
    "            conf.append(float(line[5].strip()))\n",
    "    return conf\n",
    "\n",
    "def check_existance(img_name, true_labels_paths):\n",
    "    true_labels_paths_base = get_basenames_no_ext_arr(true_labels_paths)\n",
    "    img_name_no_ext = os.path.splitext(os.path.basename(img_name))[0]\n",
    "    if img_name_no_ext in true_labels_paths_base:\n",
    "        return True\n",
    "    else:\n",
    "        return False\n",
    "\n",
    "def get_rows(detect_res_img_paths, detect_txt_res_paths, true_labeled_img_paths, true_labels_paths):\n",
    "    rows = []\n",
    "    for img_name in detect_res_img_paths:\n",
    "        conf = read_conf(img_name, detect_txt_res_paths)\n",
    "        true_result = check_existance(img_name, true_labels_paths)\n",
    "        is_valid = check_existance(img_name, true_labeled_img_paths)\n",
    "        \n",
    "        im_name_base = os.path.basename(img_name)\n",
    "        if conf is not None:\n",
    "            for box_conf in conf:\n",
    "                rows.append([im_name_base, box_conf, true_result, is_valid])\n",
    "        else:\n",
    "            rows.append([im_name_base, 0.0, true_result, is_valid])\n",
    "    return rows"
   ]
  },
  {
   "cell_type": "code",
   "execution_count": 54,
   "metadata": {},
   "outputs": [],
   "source": [
    "rows = get_rows(detect_res_img_paths, detect_txt_res_paths, true_labeled_img_paths, true_labels_paths)\n",
    "rows_df = pd.DataFrame(rows, columns=['img_name', 'conf', 'true_res', 'is_valid'])"
   ]
  },
  {
   "cell_type": "code",
   "execution_count": 55,
   "metadata": {},
   "outputs": [
    {
     "data": {
      "text/plain": [
       "152"
      ]
     },
     "execution_count": 55,
     "metadata": {},
     "output_type": "execute_result"
    }
   ],
   "source": [
    "len(set(rows_df.img_name))"
   ]
  },
  {
   "cell_type": "code",
   "execution_count": 41,
   "metadata": {},
   "outputs": [
    {
     "data": {
      "text/plain": [
       "True"
      ]
     },
     "execution_count": 41,
     "metadata": {},
     "output_type": "execute_result"
    }
   ],
   "source": [
    "check_existance(\"125._69324630_squiggles.jpg\", true_labels_paths)"
   ]
  },
  {
   "cell_type": "code",
   "execution_count": 56,
   "metadata": {},
   "outputs": [],
   "source": [
    "rows_df_grouped = rows_df.groupby(['img_name'])\n",
    "imgs = rows_df.img_name.unique()\n",
    "false_positives = pd.DataFrame()\n",
    "for img in imgs:\n",
    "    img_group = rows_df_grouped.get_group(img)\n",
    "    \n",
    "    # in event of false positive\n",
    "    for bbox in range(len(img_group)):\n",
    "        row = img_group.iloc[bbox]\n",
    "        if (row.true_res == False) and (row.conf != 0.0):\n",
    "            false_positives = false_positives.append(row)\n",
    "    # break\n"
   ]
  },
  {
   "cell_type": "code",
   "execution_count": 72,
   "metadata": {},
   "outputs": [],
   "source": [
    "rows_df_grouped = rows_df.groupby(['img_name'])\n",
    "imgs = rows_df.img_name.unique()\n",
    "true_positives = pd.DataFrame()\n",
    "for img in imgs:\n",
    "    img_group = rows_df_grouped.get_group(img)\n",
    "    img_group = img_group.sort_values(by=['conf'], ascending=False)\n",
    "    # in event of true positive\n",
    "#     for bbox in range(len(img_group)):\n",
    "    row = img_group.iloc[0]\n",
    "    if (row.true_res == True) and (row.conf != 0.0):\n",
    "        true_positives = true_positives.append(row)\n",
    "#         print(row)\n",
    "    # break"
   ]
  },
  {
   "cell_type": "code",
   "execution_count": 73,
   "metadata": {},
   "outputs": [
    {
     "data": {
      "text/plain": [
       "57"
      ]
     },
     "execution_count": 73,
     "metadata": {},
     "output_type": "execute_result"
    }
   ],
   "source": [
    "number_bck_images = len(rows_df[rows_df.true_res == False].img_name.unique())\n",
    "number_bck_images"
   ]
  },
  {
   "cell_type": "code",
   "execution_count": 74,
   "metadata": {},
   "outputs": [
    {
     "data": {
      "text/plain": [
       "95"
      ]
     },
     "execution_count": 74,
     "metadata": {},
     "output_type": "execute_result"
    }
   ],
   "source": [
    "number_spag_images = len(rows_df[rows_df.true_res == True].img_name.unique())\n",
    "number_spag_images"
   ]
  },
  {
   "cell_type": "code",
   "execution_count": 75,
   "metadata": {},
   "outputs": [
    {
     "data": {
      "text/plain": [
       "152"
      ]
     },
     "execution_count": 75,
     "metadata": {},
     "output_type": "execute_result"
    }
   ],
   "source": [
    "len(rows_df[rows_df.is_valid == True].img_name.unique())"
   ]
  },
  {
   "cell_type": "code",
   "execution_count": 76,
   "metadata": {},
   "outputs": [
    {
     "data": {
      "text/html": [
       "<div>\n",
       "<style scoped>\n",
       "    .dataframe tbody tr th:only-of-type {\n",
       "        vertical-align: middle;\n",
       "    }\n",
       "\n",
       "    .dataframe tbody tr th {\n",
       "        vertical-align: top;\n",
       "    }\n",
       "\n",
       "    .dataframe thead th {\n",
       "        text-align: right;\n",
       "    }\n",
       "</style>\n",
       "<table border=\"1\" class=\"dataframe\">\n",
       "  <thead>\n",
       "    <tr style=\"text-align: right;\">\n",
       "      <th></th>\n",
       "      <th>img_name</th>\n",
       "      <th>conf</th>\n",
       "      <th>true_res</th>\n",
       "      <th>is_valid</th>\n",
       "    </tr>\n",
       "  </thead>\n",
       "  <tbody>\n",
       "    <tr>\n",
       "      <th>1</th>\n",
       "      <td>109.schermafbeelding-2020-10-08-om-16.50.34-10...</td>\n",
       "      <td>0.03</td>\n",
       "      <td>0.0</td>\n",
       "      <td>1.0</td>\n",
       "    </tr>\n",
       "    <tr>\n",
       "      <th>2</th>\n",
       "      <td>109.schermafbeelding-2020-10-08-om-16.50.34-10...</td>\n",
       "      <td>0.01</td>\n",
       "      <td>0.0</td>\n",
       "      <td>1.0</td>\n",
       "    </tr>\n",
       "    <tr>\n",
       "      <th>422</th>\n",
       "      <td>369.07_978bd1e7-ac85-4919-803c-62017ed8715f_gr...</td>\n",
       "      <td>0.02</td>\n",
       "      <td>0.0</td>\n",
       "      <td>1.0</td>\n",
       "    </tr>\n",
       "    <tr>\n",
       "      <th>579</th>\n",
       "      <td>298.objects-printed-by-3d-printer-isolated-on-...</td>\n",
       "      <td>0.01</td>\n",
       "      <td>0.0</td>\n",
       "      <td>1.0</td>\n",
       "    </tr>\n",
       "    <tr>\n",
       "      <th>580</th>\n",
       "      <td>298.objects-printed-by-3d-printer-isolated-on-...</td>\n",
       "      <td>0.02</td>\n",
       "      <td>0.0</td>\n",
       "      <td>1.0</td>\n",
       "    </tr>\n",
       "  </tbody>\n",
       "</table>\n",
       "</div>"
      ],
      "text/plain": [
       "                                              img_name  conf  true_res  \\\n",
       "1    109.schermafbeelding-2020-10-08-om-16.50.34-10...  0.03       0.0   \n",
       "2    109.schermafbeelding-2020-10-08-om-16.50.34-10...  0.01       0.0   \n",
       "422  369.07_978bd1e7-ac85-4919-803c-62017ed8715f_gr...  0.02       0.0   \n",
       "579  298.objects-printed-by-3d-printer-isolated-on-...  0.01       0.0   \n",
       "580  298.objects-printed-by-3d-printer-isolated-on-...  0.02       0.0   \n",
       "\n",
       "     is_valid  \n",
       "1         1.0  \n",
       "2         1.0  \n",
       "422       1.0  \n",
       "579       1.0  \n",
       "580       1.0  "
      ]
     },
     "execution_count": 76,
     "metadata": {},
     "output_type": "execute_result"
    }
   ],
   "source": [
    "false_positives.head()"
   ]
  },
  {
   "cell_type": "code",
   "execution_count": 77,
   "metadata": {},
   "outputs": [
    {
     "data": {
      "image/png": "[encoded data removed]",
      "text/plain": [
       "<Figure size 432x288 with 1 Axes>"
      ]
     },
     "metadata": {
      "needs_background": "light"
     },
     "output_type": "display_data"
    }
   ],
   "source": [
    "plt.hist(false_positives.conf, bins=20)\n",
    "plt.ylabel('number of bounding boxes')\n",
    "plt.xlabel('confidance')\n",
    "plt.title('False positives');\n",
    "plt.savefig('false_postives.png')"
   ]
  },
  {
   "cell_type": "code",
   "execution_count": 78,
   "metadata": {},
   "outputs": [
    {
     "name": "stdout",
     "output_type": "stream",
     "text": [
      "<class 'pandas.core.frame.DataFrame'>\n",
      "Int64Index: 103 entries, 1 to 2924\n",
      "Data columns (total 4 columns):\n",
      " #   Column    Non-Null Count  Dtype  \n",
      "---  ------    --------------  -----  \n",
      " 0   img_name  103 non-null    object \n",
      " 1   conf      103 non-null    float64\n",
      " 2   true_res  103 non-null    float64\n",
      " 3   is_valid  103 non-null    float64\n",
      "dtypes: float64(3), object(1)\n",
      "memory usage: 4.0+ KB\n"
     ]
    }
   ],
   "source": [
    "false_positives.info()"
   ]
  },
  {
   "cell_type": "code",
   "execution_count": 79,
   "metadata": {},
   "outputs": [],
   "source": [
    "thresh = 0.3"
   ]
  },
  {
   "cell_type": "code",
   "execution_count": 80,
   "metadata": {},
   "outputs": [
    {
     "name": "stdout",
     "output_type": "stream",
     "text": [
      "<class 'pandas.core.frame.DataFrame'>\n",
      "Int64Index: 2 entries, 2288 to 2291\n",
      "Data columns (total 4 columns):\n",
      " #   Column    Non-Null Count  Dtype  \n",
      "---  ------    --------------  -----  \n",
      " 0   img_name  2 non-null      object \n",
      " 1   conf      2 non-null      float64\n",
      " 2   true_res  2 non-null      float64\n",
      " 3   is_valid  2 non-null      float64\n",
      "dtypes: float64(3), object(1)\n",
      "memory usage: 80.0+ bytes\n"
     ]
    }
   ],
   "source": [
    "false_positives[false_positives.conf > thresh].info()"
   ]
  },
  {
   "cell_type": "code",
   "execution_count": 81,
   "metadata": {},
   "outputs": [
    {
     "data": {
      "text/plain": [
       "1"
      ]
     },
     "execution_count": 81,
     "metadata": {},
     "output_type": "execute_result"
    }
   ],
   "source": [
    "false_positives_total = len(false_positives[false_positives.conf > thresh].img_name.unique())\n",
    "false_positives_total"
   ]
  },
  {
   "cell_type": "code",
   "execution_count": 82,
   "metadata": {},
   "outputs": [
    {
     "name": "stdout",
     "output_type": "stream",
     "text": [
      "<class 'pandas.core.frame.DataFrame'>\n",
      "Int64Index: 94 entries, 34 to 2932\n",
      "Data columns (total 4 columns):\n",
      " #   Column    Non-Null Count  Dtype  \n",
      "---  ------    --------------  -----  \n",
      " 0   img_name  94 non-null     object \n",
      " 1   conf      94 non-null     float64\n",
      " 2   true_res  94 non-null     float64\n",
      " 3   is_valid  94 non-null     float64\n",
      "dtypes: float64(3), object(1)\n",
      "memory usage: 3.7+ KB\n"
     ]
    }
   ],
   "source": [
    "true_positives.info()"
   ]
  },
  {
   "cell_type": "code",
   "execution_count": 83,
   "metadata": {},
   "outputs": [
    {
     "data": {
      "text/plain": [
       "70"
      ]
     },
     "execution_count": 83,
     "metadata": {},
     "output_type": "execute_result"
    }
   ],
   "source": [
    "true_positives_total = len(true_positives[true_positives.conf > thresh].img_name.unique())\n",
    "true_positives_total"
   ]
  },
  {
   "cell_type": "code",
   "execution_count": 86,
   "metadata": {},
   "outputs": [
    {
     "data": {
      "image/png": "[encoded data removed]",
      "text/plain": [
       "<Figure size 432x288 with 1 Axes>"
      ]
     },
     "metadata": {
      "needs_background": "light"
     },
     "output_type": "display_data"
    }
   ],
   "source": [
    "plt.hist(true_positives.conf, bins=30)\n",
    "plt.ylabel('number of bounding boxes')\n",
    "plt.xlabel('confidance')\n",
    "plt.title('True positives');\n",
    "plt.savefig('true_postives.png')"
   ]
  },
  {
   "cell_type": "code",
   "execution_count": 55,
   "metadata": {},
   "outputs": [
    {
     "data": {
      "text/plain": [
       "0.8758169934640523"
      ]
     },
     "execution_count": 55,
     "metadata": {},
     "output_type": "execute_result"
    }
   ],
   "source": [
    "accuracy = (true_positives_total + number_bck_images - false_positives_total) / (number_bck_images+number_spag_images)\n",
    "accuracy"
   ]
  },
  {
   "cell_type": "code",
   "execution_count": 57,
   "metadata": {},
   "outputs": [
    {
     "data": {
      "text/plain": [
       "0.9324324324324325"
      ]
     },
     "execution_count": 57,
     "metadata": {},
     "output_type": "execute_result"
    }
   ],
   "source": [
    "precision = true_positives_total / (true_positives_total+false_positives_total)\n",
    "precision"
   ]
  },
  {
   "cell_type": "code",
   "execution_count": 58,
   "metadata": {},
   "outputs": [
    {
     "data": {
      "text/plain": [
       "0.8313253012048193"
      ]
     },
     "execution_count": 58,
     "metadata": {},
     "output_type": "execute_result"
    }
   ],
   "source": [
    "recall = true_positives_total / number_spag_images\n",
    "recall"
   ]
  },
  {
   "cell_type": "code",
   "execution_count": 181,
   "metadata": {},
   "outputs": [
    {
     "name": "stdout",
     "output_type": "stream",
     "text": [
      "('217.e2ulul9wea0atw3_out', '.json')\n",
      "detection_res_darknet/labels/217.e2ulul9wea0atw3_out.txt\n",
      "('253.811cf1cd-5db3-4797-9d1d-e989442202ee_1.968fd85df6c6f52fdb32e75150d7917d_out', '.json')\n",
      "detection_res_darknet/labels/253.811cf1cd-5db3-4797-9d1d-e989442202ee_1.968fd85df6c6f52fdb32e75150d7917d_out.txt\n",
      "('243.3dprinter-2048px-9396_out', '.json')\n",
      "detection_res_darknet/labels/243.3dprinter-2048px-9396_out.txt\n",
      "('24.print-quality-1-50f2f759b108acd4c9505e7d5ece4e0e_out', '.json')\n",
      "detection_res_darknet/labels/24.print-quality-1-50f2f759b108acd4c9505e7d5ece4e0e_out.txt\n",
      "('54.vzzh4e8q0l8y_out', '.json')\n",
      "detection_res_darknet/labels/54.vzzh4e8q0l8y_out.txt\n",
      "('25.why-3d-printed-food-is-the-future_out', '.json')\n",
      "detection_res_darknet/labels/25.why-3d-printed-food-is-the-future_out.txt\n",
      "('1.image-asset_img_5eb0af2d092e0_out', '.json')\n",
      "detection_res_darknet/labels/1.image-asset_img_5eb0af2d092e0_out.txt\n",
      "('17.dexps9i_out', '.json')\n",
      "detection_res_darknet/labels/17.dexps9i_out.txt\n",
      "('279.e3ctcf1x0acowko_out', '.json')\n",
      "detection_res_darknet/labels/279.e3ctcf1x0acowko_out.txt\n",
      "('22.3d-printed-gremlins-796x448_c_out', '.json')\n",
      "detection_res_darknet/labels/22.3d-printed-gremlins-796x448_c_out.txt\n",
      "('200.199034-14046791_out', '.json')\n",
      "detection_res_darknet/labels/200.199034-14046791_out.txt\n",
      "('191.0*sttvy0spmkvdafqy_out', '.json')\n",
      "detection_res_darknet/labels/191.0*sttvy0spmkvdafqy_out.txt\n",
      "('2.tsd-rwg42985-via-youtube-200923_out', '.json')\n",
      "detection_res_darknet/labels/2.tsd-rwg42985-via-youtube-200923_out.txt\n",
      "('250.02mz1y0_out', '.json')\n",
      "detection_res_darknet/labels/250.02mz1y0_out.txt\n",
      "('33.6hprdawknt341_out', '.json')\n",
      "detection_res_darknet/labels/33.6hprdawknt341_out.txt\n",
      "('20.x1-imniqr-jjont4ilxbq508mjv2_yvm_-sboen4xsa_out', '.json')\n",
      "detection_res_darknet/labels/20.x1-imniqr-jjont4ilxbq508mjv2_yvm_-sboen4xsa_out.txt\n",
      "('235.image_thumb-3_out', '.json')\n",
      "detection_res_darknet/labels/235.image_thumb-3_out.txt\n",
      "('181.failed-cleanup-5-bfe279ad3a91361dce9a754542fc5825_out', '.json')\n",
      "detection_res_darknet/labels/181.failed-cleanup-5-bfe279ad3a91361dce9a754542fc5825_out.txt\n",
      "('175.voxelab-aquila-3d-printer-body-6-1024x576_out', '.json')\n",
      "detection_res_darknet/labels/175.voxelab-aquila-3d-printer-body-6-1024x576_out.txt\n",
      "('311.8d4486ae7837935c_out', '.json')\n",
      "detection_res_darknet/labels/311.8d4486ae7837935c_out.txt\n",
      "('275.tumblr_inline_mo340qzvil1qz4rgp_preview_featured_out', '.json')\n",
      "detection_res_darknet/labels/275.tumblr_inline_mo340qzvil1qz4rgp_preview_featured_out.txt\n",
      "('7.bhkqwsk5em6l29eewap914zhfoxshthvah6jz54frs8_out', '.json')\n",
      "detection_res_darknet/labels/7.bhkqwsk5em6l29eewap914zhfoxshthvah6jz54frs8_out.txt\n",
      "('208.image_1_out', '.json')\n",
      "detection_res_darknet/labels/208.image_1_out.txt\n",
      "('38.qlj3mjszp2s51_out', '.json')\n",
      "detection_res_darknet/labels/38.qlj3mjszp2s51_out.txt\n",
      "('145.robotica_story_orange_feet_spag_grande_out', '.json')\n",
      "detection_res_darknet/labels/145.robotica_story_orange_feet_spag_grande_out.txt\n",
      "('81.fdmvconsumer_out', '.json')\n",
      "detection_res_darknet/labels/81.fdmvconsumer_out.txt\n",
      "('110.3d-printer-creality-cr-10-max-front-450x450_out', '.json')\n",
      "detection_res_darknet/labels/110.3d-printer-creality-cr-10-max-front-450x450_out.txt\n",
      "('362.3d-printing-1200x410_out', '.json')\n",
      "detection_res_darknet/labels/362.3d-printing-1200x410_out.txt\n",
      "('137.robotica_story_hand_spag_grande_out', '.json')\n",
      "detection_res_darknet/labels/137.robotica_story_hand_spag_grande_out.txt\n",
      "('9.filament-gone-wrong-770x410_out', '.json')\n",
      "detection_res_darknet/labels/9.filament-gone-wrong-770x410_out.txt\n",
      "('13.problems_out', '.json')\n",
      "detection_res_darknet/labels/13.problems_out.txt\n",
      "('184.2013-10-12_10.51.30_preview_featured_out', '.json')\n",
      "detection_res_darknet/labels/184.2013-10-12_10.51.30_preview_featured_out.txt\n",
      "('78.spaghetti_out', '.json')\n",
      "detection_res_darknet/labels/78.spaghetti_out.txt\n",
      "('192.15304318-20190319_160153_out', '.json')\n",
      "detection_res_darknet/labels/192.15304318-20190319_160153_out.txt\n",
      "('234.937798189_3dprintingspaghetti.jpeg.a6cf5207f872541699d1fe24dd9794c2_out', '.json')\n",
      "detection_res_darknet/labels/234.937798189_3dprintingspaghetti.jpeg.a6cf5207f872541699d1fe24dd9794c2_out.txt\n",
      "('29.spaghetti_detail_out', '.json')\n",
      "detection_res_darknet/labels/29.spaghetti_detail_out.txt\n",
      "('228.010c50a3ad85bdf51f8f8771482a79839e7498c3_2_500x500_out', '.json')\n",
      "detection_res_darknet/labels/228.010c50a3ad85bdf51f8f8771482a79839e7498c3_2_500x500_out.txt\n",
      "('352.dunne-draden_out', '.json')\n",
      "detection_res_darknet/labels/352.dunne-draden_out.txt\n",
      "('31.1_pvkdohwdcf2v3qqozirdnq_out', '.json')\n",
      "detection_res_darknet/labels/31.1_pvkdohwdcf2v3qqozirdnq_out.txt\n",
      "('116.c67fc3f48c57445ca245ba82257305185d36090f_out', '.json')\n",
      "detection_res_darknet/labels/116.c67fc3f48c57445ca245ba82257305185d36090f_out.txt\n",
      "('11.owens-spaghetti-head1_out', '.json')\n",
      "detection_res_darknet/labels/11.owens-spaghetti-head1_out.txt\n",
      "('289.spectraplast-4-390x220_out', '.json')\n",
      "detection_res_darknet/labels/289.spectraplast-4-390x220_out.txt\n",
      "('301.0*1f-oryzd3k8yrcak_out', '.json')\n",
      "detection_res_darknet/labels/301.0*1f-oryzd3k8yrcak_out.txt\n",
      "('8.3d-printer-spaghetti_out', '.json')\n",
      "detection_res_darknet/labels/8.3d-printer-spaghetti_out.txt\n",
      "('3.c2ltj6tnrch21_out', '.json')\n",
      "detection_res_darknet/labels/3.c2ltj6tnrch21_out.txt\n",
      "('57.spaghetti_out', '.json')\n",
      "detection_res_darknet/labels/57.spaghetti_out.txt\n",
      "('65.spaghetti_detective_out', '.json')\n",
      "detection_res_darknet/labels/65.spaghetti_detective_out.txt\n",
      "('212.fejafjghwjjwwcr_out', '.json')\n",
      "detection_res_darknet/labels/212.fejafjghwjjwwcr_out.txt\n",
      "('80.5bnb7ljp2sox_out', '.json')\n",
      "detection_res_darknet/labels/80.5bnb7ljp2sox_out.txt\n",
      "('121.ultiprint7_out', '.json')\n",
      "detection_res_darknet/labels/121.ultiprint7_out.txt\n",
      "('4.screenshot-25_out', '.json')\n",
      "detection_res_darknet/labels/4.screenshot-25_out.txt\n",
      "('16.3d-printer-failure-spaghetti-36f9796d8ded6799ebf99b7aeb9c4e39_out', '.json')\n",
      "detection_res_darknet/labels/16.3d-printer-failure-spaghetti-36f9796d8ded6799ebf99b7aeb9c4e39_out.txt\n",
      "('36.bogchzp_out', '.json')\n",
      "detection_res_darknet/labels/36.bogchzp_out.txt\n",
      "('39.2001lvzmzbg21_out', '.json')\n",
      "detection_res_darknet/labels/39.2001lvzmzbg21_out.txt\n",
      "('92.site_spaghetti2_out', '.json')\n",
      "detection_res_darknet/labels/92.site_spaghetti2_out.txt\n",
      "('135.1_out', '.json')\n",
      "detection_res_darknet/labels/135.1_out.txt\n",
      "('109.schermafbeelding-2020-10-08-om-16.50.34-1004x532_out', '.json')\n",
      "detection_res_darknet/labels/109.schermafbeelding-2020-10-08-om-16.50.34-1004x532_out.txt\n",
      "('97.whzuvkwocc5sj434mfzdqz-1200-80_out', '.json')\n",
      "detection_res_darknet/labels/97.whzuvkwocc5sj434mfzdqz-1200-80_out.txt\n",
      "('210.spaghetti_out', '.json')\n",
      "detection_res_darknet/labels/210.spaghetti_out.txt\n",
      "('46.tsdbug_thumb_out', '.json')\n",
      "detection_res_darknet/labels/46.tsdbug_thumb_out.txt\n",
      "('35.359c452bf191800b4e297f6522cffc70_out', '.json')\n",
      "detection_res_darknet/labels/35.359c452bf191800b4e297f6522cffc70_out.txt\n",
      "('177.8gqrtbr_out', '.json')\n",
      "detection_res_darknet/labels/177.8gqrtbr_out.txt\n",
      "('26.failedprint2_img_5eb0af2d67ead_out', '.json')\n",
      "detection_res_darknet/labels/26.failedprint2_img_5eb0af2d67ead_out.txt\n",
      "('147.13998-75767-img-20180405-163051_out', '.json')\n",
      "detection_res_darknet/labels/147.13998-75767-img-20180405-163051_out.txt\n",
      "('98.ifactory-one-belt-fed-3d-printer-03_out', '.json')\n",
      "detection_res_darknet/labels/98.ifactory-one-belt-fed-3d-printer-03_out.txt\n",
      "('230.qetwbu2w2vby_out', '.json')\n",
      "detection_res_darknet/labels/230.qetwbu2w2vby_out.txt\n",
      "('40.0*sttvy0spmkvdafqy_out', '.json')\n",
      "detection_res_darknet/labels/40.0*sttvy0spmkvdafqy_out.txt\n",
      "('241.img_20201129_085125_out', '.json')\n",
      "detection_res_darknet/labels/241.img_20201129_085125_out.txt\n",
      "('34.vmpjabu_out', '.json')\n",
      "detection_res_darknet/labels/34.vmpjabu_out.txt\n",
      "('76.1_out', '.json')\n",
      "detection_res_darknet/labels/76.1_out.txt\n",
      "('66.printing-spaghetti-monster_out', '.json')\n",
      "detection_res_darknet/labels/66.printing-spaghetti-monster_out.txt\n",
      "('19.strings_out', '.json')\n",
      "detection_res_darknet/labels/19.strings_out.txt\n",
      "('5.maxresdefault_out', '.json')\n",
      "detection_res_darknet/labels/5.maxresdefault_out.txt\n",
      "('28.dafpczrw0aadlre.jpglarge_out', '.json')\n",
      "detection_res_darknet/labels/28.dafpczrw0aadlre.jpglarge_out.txt\n",
      "('32.most-common-3d-printer-errors_blog-header_out', '.json')\n",
      "detection_res_darknet/labels/32.most-common-3d-printer-errors_blog-header_out.txt\n",
      "('10.maxresdefault_out', '.json')\n",
      "detection_res_darknet/labels/10.maxresdefault_out.txt\n",
      "('104.yi6qlqq_out', '.json')\n",
      "detection_res_darknet/labels/104.yi6qlqq_out.txt\n",
      "('43.img_4243_out', '.json')\n",
      "detection_res_darknet/labels/43.img_4243_out.txt\n",
      "('41.23603570754_dcaefb87a8_z-300x222_out', '.json')\n",
      "detection_res_darknet/labels/41.23603570754_dcaefb87a8_z-300x222_out.txt\n",
      "('297.screen+shot+2021-11-09+at+2.32.19+pm_out', '.json')\n",
      "detection_res_darknet/labels/297.screen+shot+2021-11-09+at+2.32.19+pm_out.txt\n",
      "('117.print-not-sticking-to-bed_out', '.json')\n",
      "detection_res_darknet/labels/117.print-not-sticking-to-bed_out.txt\n",
      "('14.20180528_212845_out', '.json')\n",
      "detection_res_darknet/labels/14.20180528_212845_out.txt\n",
      "('90.wade-spaghetti-master-3d-printing-130358_out', '.json')\n",
      "detection_res_darknet/labels/90.wade-spaghetti-master-3d-printing-130358_out.txt\n",
      "('84.3d-printing-beginners_out', '.json')\n",
      "detection_res_darknet/labels/84.3d-printing-beginners_out.txt\n",
      "('111.dsc02151.jpg.3be35b50b2324f9b7f86b82be85ae3c5_out', '.json')\n",
      "detection_res_darknet/labels/111.dsc02151.jpg.3be35b50b2324f9b7f86b82be85ae3c5_out.txt\n",
      "('298.objects-printed-by-3d-printer-isolated-on-white-background-picture-id897850542_out', '.json')\n",
      "detection_res_darknet/labels/298.objects-printed-by-3d-printer-isolated-on-white-background-picture-id897850542_out.txt\n",
      "('173.3dprinter_spaghettimonster_out', '.json')\n",
      "detection_res_darknet/labels/173.3dprinter_spaghettimonster_out.txt\n",
      "('129.20191021_190839_out', '.json')\n",
      "detection_res_darknet/labels/129.20191021_190839_out.txt\n",
      "('268.spaghetti-detective_out', '.json')\n",
      "detection_res_darknet/labels/268.spaghetti-detective_out.txt\n",
      "('21.3d-printing-fail_out', '.json')\n",
      "detection_res_darknet/labels/21.3d-printing-fail_out.txt\n",
      "('178.fds48u3xoao1naq_out', '.json')\n",
      "detection_res_darknet/labels/178.fds48u3xoao1naq_out.txt\n",
      "('238.slider_base_nema17-14_152x57x42mm_out', '.json')\n",
      "detection_res_darknet/labels/238.slider_base_nema17-14_152x57x42mm_out.txt\n",
      "('125._69324630_squiggles_out', '.json')\n",
      "detection_res_darknet/labels/125._69324630_squiggles_out.txt\n",
      "('77.iioqcwsf5f921_out', '.json')\n",
      "detection_res_darknet/labels/77.iioqcwsf5f921_out.txt\n",
      "('53.image-asset_img_5eb08bcaea8e1_out', '.json')\n",
      "detection_res_darknet/labels/53.image-asset_img_5eb08bcaea8e1_out.txt\n",
      "('48.failed-print_out', '.json')\n",
      "detection_res_darknet/labels/48.failed-print_out.txt\n",
      "('115.c1uzkdsw8aaz54b_out', '.json')\n",
      "detection_res_darknet/labels/115.c1uzkdsw8aaz54b_out.txt\n",
      "('105.4_out', '.json')\n",
      "detection_res_darknet/labels/105.4_out.txt\n",
      "('307.ed08uitvuae4zzk_out', '.json')\n",
      "detection_res_darknet/labels/307.ed08uitvuae4zzk_out.txt\n",
      "('261.3d-printing-from-mass-production-to-customized-on-demand-production-12-638_out', '.json')\n",
      "detection_res_darknet/labels/261.3d-printing-from-mass-production-to-customized-on-demand-production-12-638_out.txt\n",
      "('73.1_out', '.json')\n",
      "detection_res_darknet/labels/73.1_out.txt\n",
      "('114.maxresdefault_out', '.json')\n",
      "detection_res_darknet/labels/114.maxresdefault_out.txt\n",
      "('282.f95owg1h2wevvun_out', '.json')\n",
      "detection_res_darknet/labels/282.f95owg1h2wevvun_out.txt\n",
      "('23.maxresdefault_out', '.json')\n",
      "detection_res_darknet/labels/23.maxresdefault_out.txt\n",
      "('42.hqdefault_out', '.json')\n",
      "detection_res_darknet/labels/42.hqdefault_out.txt\n",
      "('51.em9a0wxs50d21_out', '.json')\n",
      "detection_res_darknet/labels/51.em9a0wxs50d21_out.txt\n",
      "('83.7088ot_01_18_out', '.json')\n",
      "detection_res_darknet/labels/83.7088ot_01_18_out.txt\n",
      "('71.fh5jeqsihf6my0q_out', '.json')\n",
      "detection_res_darknet/labels/71.fh5jeqsihf6my0q_out.txt\n",
      "('340.how-long-can-you-leave-uncured-resin-in-vat-mono-x-vat-3d-printerly-150x150_out', '.json')\n",
      "detection_res_darknet/labels/340.how-long-can-you-leave-uncured-resin-in-vat-mono-x-vat-3d-printerly-150x150_out.txt\n",
      "('68.maxresdefault_out', '.json')\n",
      "detection_res_darknet/labels/68.maxresdefault_out.txt\n",
      "('158.288m.mov_snapshot_06.10_2020.10.29_11.37.17-1600x900_out', '.json')\n",
      "detection_res_darknet/labels/158.288m.mov_snapshot_06.10_2020.10.29_11.37.17-1600x900_out.txt\n",
      "('82.2013-01-18-curl-and-lift_out', '.json')\n",
      "detection_res_darknet/labels/82.2013-01-18-curl-and-lift_out.txt\n",
      "('69.rigid_ink_23.02.17_29474_spaghetti_6d7755e8-5589-4f2a-a4f2-111d5dbd6819_x500_out', '.json')\n",
      "detection_res_darknet/labels/69.rigid_ink_23.02.17_29474_spaghetti_6d7755e8-5589-4f2a-a4f2-111d5dbd6819_x500_out.txt\n",
      "('107.printfail_out', '.json')\n",
      "detection_res_darknet/labels/107.printfail_out.txt\n",
      "('12.3d-printing-tips_4_9_2015_out', '.json')\n",
      "detection_res_darknet/labels/12.3d-printing-tips_4_9_2015_out.txt\n",
      "('312.61d9f797a992299485593882_screen%20shot%202022-01-08%20at%2012.43.46%20pm_out', '.json')\n",
      "detection_res_darknet/labels/312.61d9f797a992299485593882_screen%20shot%202022-01-08%20at%2012.43.46%20pm_out.txt\n",
      "('369.07_978bd1e7-ac85-4919-803c-62017ed8715f_grande_out', '.json')\n",
      "detection_res_darknet/labels/369.07_978bd1e7-ac85-4919-803c-62017ed8715f_grande_out.txt\n",
      "('64.ca5a6ecd4423c1c92580f8b7c758c956_out', '.json')\n",
      "detection_res_darknet/labels/64.ca5a6ecd4423c1c92580f8b7c758c956_out.txt\n",
      "('283.3d-printed-vase-fail-spaghetti-prototyping-hive-800x800_out', '.json')\n",
      "detection_res_darknet/labels/283.3d-printed-vase-fail-spaghetti-prototyping-hive-800x800_out.txt\n",
      "('30.cb7afa69396b8da7b092bcea0337193654a8ae99e3597e58851c8ba742c716e7_1_out', '.json')\n",
      "detection_res_darknet/labels/30.cb7afa69396b8da7b092bcea0337193654a8ae99e3597e58851c8ba742c716e7_1_out.txt\n"
     ]
    }
   ],
   "source": [
    "## json to txt\n",
    "import json\n",
    "json_files = glob(\"detection_res_darknet/labels_json/*\")\n",
    "for json_file in json_files:\n",
    "    with open(json_file, 'r') as f:\n",
    "      data = json.load(f)\n",
    "    if (len(data) == 0): continue\n",
    "    filename_no_ext = os.path.splitext(os.path.basename(json_file))[0]\n",
    "    print(os.path.splitext(os.path.basename(json_file)))\n",
    "    txt_file = f\"detection_res_darknet/labels/{filename_no_ext}.txt\"\n",
    "    print(txt_file)\n",
    "    with open(txt_file, \"x\") as f:\n",
    "        for bbox in data:\n",
    "            line = f\"0 0 0 0 0 {bbox['confidence']}\\n\"\n",
    "            f.write(line)"
   ]
  },
  {
   "cell_type": "code",
   "execution_count": 182,
   "metadata": {},
   "outputs": [
    {
     "name": "stdout",
     "output_type": "stream",
     "text": [
      "detection_res_darknet/labels/268.spaghetti-detective.txt\n",
      "detection_res_darknet/labels/8.3d-printer-spaghetti.txt\n",
      "detection_res_darknet/labels/66.printing-spaghetti-monster.txt\n",
      "detection_res_darknet/labels/125._69324630_squiggles.txt\n",
      "detection_res_darknet/labels/362.3d-printing-1200x410.txt\n",
      "detection_res_darknet/labels/235.image_thumb-3.txt\n",
      "detection_res_darknet/labels/116.c67fc3f48c57445ca245ba82257305185d36090f.txt\n",
      "detection_res_darknet/labels/19.strings.txt\n",
      "detection_res_darknet/labels/228.010c50a3ad85bdf51f8f8771482a79839e7498c3_2_500x500.txt\n",
      "detection_res_darknet/labels/9.filament-gone-wrong-770x410.txt\n",
      "detection_res_darknet/labels/12.3d-printing-tips_4_9_2015.txt\n",
      "detection_res_darknet/labels/298.objects-printed-by-3d-printer-isolated-on-white-background-picture-id897850542.txt\n",
      "detection_res_darknet/labels/312.61d9f797a992299485593882_screen%20shot%202022-01-08%20at%2012.43.46%20pm.txt\n",
      "detection_res_darknet/labels/217.e2ulul9wea0atw3.txt\n",
      "detection_res_darknet/labels/104.yi6qlqq.txt\n",
      "detection_res_darknet/labels/7.bhkqwsk5em6l29eewap914zhfoxshthvah6jz54frs8.txt\n",
      "detection_res_darknet/labels/208.image_1.txt\n",
      "detection_res_darknet/labels/36.bogchzp.txt\n",
      "detection_res_darknet/labels/73.1.txt\n",
      "detection_res_darknet/labels/78.spaghetti.txt\n",
      "detection_res_darknet/labels/2.tsd-rwg42985-via-youtube-200923.txt\n",
      "detection_res_darknet/labels/16.3d-printer-failure-spaghetti-36f9796d8ded6799ebf99b7aeb9c4e39.txt\n",
      "detection_res_darknet/labels/289.spectraplast-4-390x220.txt\n",
      "detection_res_darknet/labels/69.rigid_ink_23.02.17_29474_spaghetti_6d7755e8-5589-4f2a-a4f2-111d5dbd6819_x500.txt\n",
      "detection_res_darknet/labels/14.20180528_212845.txt\n",
      "detection_res_darknet/labels/4.screenshot-25.txt\n",
      "detection_res_darknet/labels/46.tsdbug_thumb.txt\n",
      "detection_res_darknet/labels/173.3dprinter_spaghettimonster.txt\n",
      "detection_res_darknet/labels/145.robotica_story_orange_feet_spag_grande.txt\n",
      "detection_res_darknet/labels/40.0*sttvy0spmkvdafqy.txt\n",
      "detection_res_darknet/labels/43.img_4243.txt\n",
      "detection_res_darknet/labels/181.failed-cleanup-5-bfe279ad3a91361dce9a754542fc5825.txt\n",
      "detection_res_darknet/labels/307.ed08uitvuae4zzk.txt\n",
      "detection_res_darknet/labels/117.print-not-sticking-to-bed.txt\n",
      "detection_res_darknet/labels/1.image-asset_img_5eb0af2d092e0.txt\n",
      "detection_res_darknet/labels/31.1_pvkdohwdcf2v3qqozirdnq.txt\n",
      "detection_res_darknet/labels/178.fds48u3xoao1naq.txt\n",
      "detection_res_darknet/labels/275.tumblr_inline_mo340qzvil1qz4rgp_preview_featured.txt\n",
      "detection_res_darknet/labels/28.dafpczrw0aadlre.jpglarge.txt\n",
      "detection_res_darknet/labels/230.qetwbu2w2vby.txt\n",
      "detection_res_darknet/labels/5.maxresdefault.txt\n",
      "detection_res_darknet/labels/30.cb7afa69396b8da7b092bcea0337193654a8ae99e3597e58851c8ba742c716e7_1.txt\n",
      "detection_res_darknet/labels/282.f95owg1h2wevvun.txt\n",
      "detection_res_darknet/labels/82.2013-01-18-curl-and-lift.txt\n",
      "detection_res_darknet/labels/34.vmpjabu.txt\n",
      "detection_res_darknet/labels/147.13998-75767-img-20180405-163051.txt\n",
      "detection_res_darknet/labels/39.2001lvzmzbg21.txt\n",
      "detection_res_darknet/labels/68.maxresdefault.txt\n",
      "detection_res_darknet/labels/243.3dprinter-2048px-9396.txt\n",
      "detection_res_darknet/labels/26.failedprint2_img_5eb0af2d67ead.txt\n",
      "detection_res_darknet/labels/301.0*1f-oryzd3k8yrcak.txt\n",
      "detection_res_darknet/labels/71.fh5jeqsihf6my0q.txt\n",
      "detection_res_darknet/labels/84.3d-printing-beginners.txt\n",
      "detection_res_darknet/labels/200.199034-14046791.txt\n",
      "detection_res_darknet/labels/24.print-quality-1-50f2f759b108acd4c9505e7d5ece4e0e.txt\n",
      "detection_res_darknet/labels/51.em9a0wxs50d21.txt\n",
      "detection_res_darknet/labels/98.ifactory-one-belt-fed-3d-printer-03.txt\n",
      "detection_res_darknet/labels/65.spaghetti_detective.txt\n",
      "detection_res_darknet/labels/3.c2ltj6tnrch21.txt\n",
      "detection_res_darknet/labels/29.spaghetti_detail.txt\n",
      "detection_res_darknet/labels/184.2013-10-12_10.51.30_preview_featured.txt\n",
      "detection_res_darknet/labels/177.8gqrtbr.txt\n",
      "detection_res_darknet/labels/191.0*sttvy0spmkvdafqy.txt\n",
      "detection_res_darknet/labels/283.3d-printed-vase-fail-spaghetti-prototyping-hive-800x800.txt\n",
      "detection_res_darknet/labels/114.maxresdefault.txt\n",
      "detection_res_darknet/labels/76.1.txt\n",
      "detection_res_darknet/labels/279.e3ctcf1x0acowko.txt\n",
      "detection_res_darknet/labels/105.4.txt\n",
      "detection_res_darknet/labels/107.printfail.txt\n",
      "detection_res_darknet/labels/261.3d-printing-from-mass-production-to-customized-on-demand-production-12-638.txt\n",
      "detection_res_darknet/labels/90.wade-spaghetti-master-3d-printing-130358.txt\n",
      "detection_res_darknet/labels/175.voxelab-aquila-3d-printer-body-6-1024x576.txt\n",
      "detection_res_darknet/labels/210.spaghetti.txt\n",
      "detection_res_darknet/labels/311.8d4486ae7837935c.txt\n",
      "detection_res_darknet/labels/10.maxresdefault.txt\n",
      "detection_res_darknet/labels/110.3d-printer-creality-cr-10-max-front-450x450.txt\n",
      "detection_res_darknet/labels/77.iioqcwsf5f921.txt\n",
      "detection_res_darknet/labels/158.288m.mov_snapshot_06.10_2020.10.29_11.37.17-1600x900.txt\n",
      "detection_res_darknet/labels/11.owens-spaghetti-head1.txt\n",
      "detection_res_darknet/labels/57.spaghetti.txt\n",
      "detection_res_darknet/labels/121.ultiprint7.txt\n",
      "detection_res_darknet/labels/80.5bnb7ljp2sox.txt\n",
      "detection_res_darknet/labels/13.problems.txt\n",
      "detection_res_darknet/labels/129.20191021_190839.txt\n",
      "detection_res_darknet/labels/17.dexps9i.txt\n",
      "detection_res_darknet/labels/241.img_20201129_085125.txt\n",
      "detection_res_darknet/labels/297.screen+shot+2021-11-09+at+2.32.19+pm.txt\n",
      "detection_res_darknet/labels/115.c1uzkdsw8aaz54b.txt\n",
      "detection_res_darknet/labels/21.3d-printing-fail.txt\n",
      "detection_res_darknet/labels/192.15304318-20190319_160153.txt\n",
      "detection_res_darknet/labels/54.vzzh4e8q0l8y.txt\n",
      "detection_res_darknet/labels/135.1.txt\n",
      "detection_res_darknet/labels/340.how-long-can-you-leave-uncured-resin-in-vat-mono-x-vat-3d-printerly-150x150.txt\n",
      "detection_res_darknet/labels/92.site_spaghetti2.txt\n",
      "detection_res_darknet/labels/250.02mz1y0.txt\n",
      "detection_res_darknet/labels/25.why-3d-printed-food-is-the-future.txt\n",
      "detection_res_darknet/labels/42.hqdefault.txt\n",
      "detection_res_darknet/labels/81.fdmvconsumer.txt\n",
      "detection_res_darknet/labels/238.slider_base_nema17-14_152x57x42mm.txt\n",
      "detection_res_darknet/labels/41.23603570754_dcaefb87a8_z-300x222.txt\n",
      "detection_res_darknet/labels/83.7088ot_01_18.txt\n",
      "detection_res_darknet/labels/22.3d-printed-gremlins-796x448_c.txt\n",
      "detection_res_darknet/labels/33.6hprdawknt341.txt\n",
      "detection_res_darknet/labels/32.most-common-3d-printer-errors_blog-header.txt\n",
      "detection_res_darknet/labels/53.image-asset_img_5eb08bcaea8e1.txt\n",
      "detection_res_darknet/labels/38.qlj3mjszp2s51.txt\n",
      "detection_res_darknet/labels/64.ca5a6ecd4423c1c92580f8b7c758c956.txt\n",
      "detection_res_darknet/labels/20.x1-imniqr-jjont4ilxbq508mjv2_yvm_-sboen4xsa.txt\n",
      "detection_res_darknet/labels/111.dsc02151.jpg.3be35b50b2324f9b7f86b82be85ae3c5.txt\n",
      "detection_res_darknet/labels/369.07_978bd1e7-ac85-4919-803c-62017ed8715f_grande.txt\n",
      "detection_res_darknet/labels/212.fejafjghwjjwwcr.txt\n",
      "detection_res_darknet/labels/253.811cf1cd-5db3-4797-9d1d-e989442202ee_1.968fd85df6c6f52fdb32e75150d7917d.txt\n",
      "detection_res_darknet/labels/352.dunne-draden.txt\n",
      "detection_res_darknet/labels/35.359c452bf191800b4e297f6522cffc70.txt\n",
      "detection_res_darknet/labels/48.failed-print.txt\n",
      "detection_res_darknet/labels/234.937798189_3dprintingspaghetti.jpeg.a6cf5207f872541699d1fe24dd9794c2.txt\n",
      "detection_res_darknet/labels/137.robotica_story_hand_spag_grande.txt\n",
      "detection_res_darknet/labels/23.maxresdefault.txt\n",
      "detection_res_darknet/labels/109.schermafbeelding-2020-10-08-om-16.50.34-1004x532.txt\n",
      "detection_res_darknet/labels/97.whzuvkwocc5sj434mfzdqz-1200-80.txt\n"
     ]
    }
   ],
   "source": [
    "json_files = glob(\"detection_res_darknet/labels/*\")\n",
    "for json_file in json_files:\n",
    "    json_file_new = json_file.replace(\"_out\", \"\")\n",
    "    print(json_file_new)\n",
    "    os.rename(json_file, json_file_new)"
   ]
  },
  {
   "cell_type": "code",
   "execution_count": 114,
   "metadata": {},
   "outputs": [],
   "source": [
    "imgs = glob(\"detection_res_darknet/*\")\n",
    "for img in imgs:\n",
    "    json_file_new = img.replace(\"_out\", \"\")\n",
    "    os.rename(img, json_file_new)"
   ]
  },
  {
   "cell_type": "code",
   "execution_count": null,
   "metadata": {},
   "outputs": [],
   "source": []
  }
 ],
 "metadata": {
  "kernelspec": {
   "display_name": "Python 3",
   "language": "python",
   "name": "python3"
  },
  "language_info": {
   "codemirror_mode": {
    "name": "ipython",
    "version": 3
   },
   "file_extension": ".py",
   "mimetype": "text/x-python",
   "name": "python",
   "nbconvert_exporter": "python",
   "pygments_lexer": "ipython3",
   "version": "3.8.10"
  }
 },
 "nbformat": 4,
 "nbformat_minor": 5
}
