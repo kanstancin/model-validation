{
 "cells": [
  {
   "cell_type": "code",
   "execution_count": 1,
   "id": "e27b024e-dac3-4f24-8d1f-6f0dd44203c3",
   "metadata": {},
   "outputs": [],
   "source": [
    "import matplotlib.pyplot as plt\n",
    "import numpy as np\n",
    "import os\n",
    "import pandas as pd\n",
    "\n",
    "from glob import glob"
   ]
  },
  {
   "cell_type": "code",
   "execution_count": 2,
   "id": "4b23879c-2ad5-4083-8a80-557969a18865",
   "metadata": {},
   "outputs": [],
   "source": [
    "# path to detectin results\n",
    "detect_res_path = \"../exp/\"\n",
    "detect_labels_res_path = os.path.join(detect_res_path, \"labels\")\n",
    "\n",
    "# path to true labels\n",
    "true_labeled_imgs_path = \"../create_train_set/data/rgb_images_spag_&_bckg\"\n",
    "true_labels_path = \"../yolo-labels/\""
   ]
  },
  {
   "cell_type": "code",
   "execution_count": 3,
   "id": "a645a4be-4629-4efa-a151-ac00a413a9cd",
   "metadata": {},
   "outputs": [],
   "source": [
    "detect_res_img_paths = glob(os.path.join(detect_res_path, \"*\"))\n",
    "detect_txt_res_paths = glob(os.path.join(detect_labels_res_path, \"*\"))\n",
    "\n",
    "true_labeled_img_paths = glob(os.path.join(true_labeled_imgs_path, \"*\"))\n",
    "true_labels_paths = glob(os.path.join(true_labels_path, \"*\"))"
   ]
  },
  {
   "cell_type": "code",
   "execution_count": 4,
   "id": "00bd81e9-9859-460a-aaa2-29f81c1e9df5",
   "metadata": {},
   "outputs": [],
   "source": [
    "def get_basename_no_ext(inp):\n",
    "    return os.path.splitext(os.path.basename(inp[0]))[0]\n",
    "\n",
    "def get_basenames_no_ext_arr(arr):\n",
    "    arr_base = np.array(arr).reshape(-1,1)\n",
    "    arr_base = np.apply_along_axis(get_basename_no_ext, 1, arr_base)\n",
    "    return arr_base\n",
    "\n",
    "def read_conf(img_name, detect_txt_res_paths):\n",
    "    detect_txt_res_paths_base = get_basenames_no_ext_arr(detect_txt_res_paths)\n",
    "    img_name_no_ext = os.path.splitext(os.path.basename(img_name))[0]\n",
    "    \n",
    "    if img_name_no_ext not in detect_txt_res_paths_base:\n",
    "        return None\n",
    "    txt_path = f\"{os.path.dirname(detect_txt_res_paths[0])}/{img_name_no_ext}.txt\"\n",
    "    conf = []\n",
    "    with open(txt_path) as fp:\n",
    "        for line in fp:\n",
    "            line = line.split(\" \")\n",
    "            if len(line) == 5:\n",
    "                # print(\"ERROR: no conf saved\")\n",
    "                continue\n",
    "            conf.append(float(line[5].strip()))\n",
    "    return conf\n",
    "\n",
    "def check_existance(img_name, true_labels_paths):\n",
    "    true_labels_paths_base = get_basenames_no_ext_arr(true_labels_paths)\n",
    "    img_name_no_ext = os.path.splitext(os.path.basename(img_name))[0]\n",
    "    \n",
    "    if img_name_no_ext in true_labels_paths_base:\n",
    "        return True\n",
    "    else:\n",
    "        return False\n",
    "\n",
    "def get_rows(detect_res_img_paths, detect_txt_res_paths, true_labeled_img_paths, true_labels_paths):\n",
    "    rows = []\n",
    "    for img_name in detect_res_img_paths:\n",
    "        conf = read_conf(img_name, detect_txt_res_paths)\n",
    "        \n",
    "        true_result = check_existance(img_name, true_labels_paths)\n",
    "        is_valid = check_existance(img_name, true_labeled_img_paths)\n",
    "        \n",
    "        im_name_base = os.path.basename(img_name)\n",
    "        if conf is not None:\n",
    "            for box_conf in conf:\n",
    "                rows.append([im_name_base, box_conf, true_result, is_valid])\n",
    "        else:\n",
    "            rows.append([im_name_base, 0.0, true_result, is_valid])\n",
    "    return rows"
   ]
  },
  {
   "cell_type": "code",
   "execution_count": 5,
   "id": "6e916304-b269-43eb-9665-dcfbc65a2efa",
   "metadata": {},
   "outputs": [],
   "source": [
    "rows = get_rows(detect_res_img_paths, detect_txt_res_paths, true_labeled_img_paths, true_labels_paths)\n",
    "rows_df = pd.DataFrame(rows, columns=['img_name', 'conf', 'true_res', 'is_valid'])"
   ]
  },
  {
   "cell_type": "code",
   "execution_count": 6,
   "id": "b8482c8d-de82-480c-83c7-8a5ef84e579b",
   "metadata": {},
   "outputs": [],
   "source": [
    "rows_df_grouped = rows_df.groupby(['img_name'])\n",
    "imgs = rows_df.img_name.unique()\n",
    "false_positives = pd.DataFrame()\n",
    "for img in imgs:\n",
    "    img_group = rows_df_grouped.get_group(img)\n",
    "    \n",
    "    # in event of false positive\n",
    "    for bbox in range(len(img_group)):\n",
    "        row = img_group.iloc[bbox]\n",
    "        if (row.true_res == False) and (row.conf != 0.0):\n",
    "            false_positives = false_positives.append(row)\n",
    "    # break\n"
   ]
  },
  {
   "cell_type": "code",
   "execution_count": 7,
   "id": "f169cba6-1675-4ebf-a2af-a253523a8998",
   "metadata": {},
   "outputs": [
    {
     "data": {
      "text/html": [
       "<div>\n",
       "<style scoped>\n",
       "    .dataframe tbody tr th:only-of-type {\n",
       "        vertical-align: middle;\n",
       "    }\n",
       "\n",
       "    .dataframe tbody tr th {\n",
       "        vertical-align: top;\n",
       "    }\n",
       "\n",
       "    .dataframe thead th {\n",
       "        text-align: right;\n",
       "    }\n",
       "</style>\n",
       "<table border=\"1\" class=\"dataframe\">\n",
       "  <thead>\n",
       "    <tr style=\"text-align: right;\">\n",
       "      <th></th>\n",
       "      <th>img_name</th>\n",
       "      <th>conf</th>\n",
       "      <th>true_res</th>\n",
       "      <th>is_valid</th>\n",
       "    </tr>\n",
       "  </thead>\n",
       "  <tbody>\n",
       "    <tr>\n",
       "      <th>0</th>\n",
       "      <td>example.jpeg</td>\n",
       "      <td>0.173019</td>\n",
       "      <td>0.0</td>\n",
       "      <td>0.0</td>\n",
       "    </tr>\n",
       "    <tr>\n",
       "      <th>1</th>\n",
       "      <td>example.jpeg</td>\n",
       "      <td>0.481946</td>\n",
       "      <td>0.0</td>\n",
       "      <td>0.0</td>\n",
       "    </tr>\n",
       "    <tr>\n",
       "      <th>5</th>\n",
       "      <td>186.alternative_filaments-1280x720.jpg</td>\n",
       "      <td>0.078362</td>\n",
       "      <td>0.0</td>\n",
       "      <td>0.0</td>\n",
       "    </tr>\n",
       "    <tr>\n",
       "      <th>6</th>\n",
       "      <td>186.alternative_filaments-1280x720.jpg</td>\n",
       "      <td>0.105384</td>\n",
       "      <td>0.0</td>\n",
       "      <td>0.0</td>\n",
       "    </tr>\n",
       "    <tr>\n",
       "      <th>7</th>\n",
       "      <td>186.alternative_filaments-1280x720.jpg</td>\n",
       "      <td>0.246175</td>\n",
       "      <td>0.0</td>\n",
       "      <td>0.0</td>\n",
       "    </tr>\n",
       "    <tr>\n",
       "      <th>...</th>\n",
       "      <td>...</td>\n",
       "      <td>...</td>\n",
       "      <td>...</td>\n",
       "      <td>...</td>\n",
       "    </tr>\n",
       "    <tr>\n",
       "      <th>1131</th>\n",
       "      <td>180.1920x1080.jpeg</td>\n",
       "      <td>0.070274</td>\n",
       "      <td>0.0</td>\n",
       "      <td>0.0</td>\n",
       "    </tr>\n",
       "    <tr>\n",
       "      <th>1132</th>\n",
       "      <td>180.1920x1080.jpeg</td>\n",
       "      <td>0.083552</td>\n",
       "      <td>0.0</td>\n",
       "      <td>0.0</td>\n",
       "    </tr>\n",
       "    <tr>\n",
       "      <th>1133</th>\n",
       "      <td>180.1920x1080.jpeg</td>\n",
       "      <td>0.150215</td>\n",
       "      <td>0.0</td>\n",
       "      <td>0.0</td>\n",
       "    </tr>\n",
       "    <tr>\n",
       "      <th>1134</th>\n",
       "      <td>180.1920x1080.jpeg</td>\n",
       "      <td>0.298592</td>\n",
       "      <td>0.0</td>\n",
       "      <td>0.0</td>\n",
       "    </tr>\n",
       "    <tr>\n",
       "      <th>1135</th>\n",
       "      <td>180.1920x1080.jpeg</td>\n",
       "      <td>0.575662</td>\n",
       "      <td>0.0</td>\n",
       "      <td>0.0</td>\n",
       "    </tr>\n",
       "  </tbody>\n",
       "</table>\n",
       "<p>537 rows × 4 columns</p>\n",
       "</div>"
      ],
      "text/plain": [
       "                                    img_name      conf  true_res  is_valid\n",
       "0                               example.jpeg  0.173019       0.0       0.0\n",
       "1                               example.jpeg  0.481946       0.0       0.0\n",
       "5     186.alternative_filaments-1280x720.jpg  0.078362       0.0       0.0\n",
       "6     186.alternative_filaments-1280x720.jpg  0.105384       0.0       0.0\n",
       "7     186.alternative_filaments-1280x720.jpg  0.246175       0.0       0.0\n",
       "...                                      ...       ...       ...       ...\n",
       "1131                      180.1920x1080.jpeg  0.070274       0.0       0.0\n",
       "1132                      180.1920x1080.jpeg  0.083552       0.0       0.0\n",
       "1133                      180.1920x1080.jpeg  0.150215       0.0       0.0\n",
       "1134                      180.1920x1080.jpeg  0.298592       0.0       0.0\n",
       "1135                      180.1920x1080.jpeg  0.575662       0.0       0.0\n",
       "\n",
       "[537 rows x 4 columns]"
      ]
     },
     "execution_count": 7,
     "metadata": {},
     "output_type": "execute_result"
    }
   ],
   "source": [
    "false_positives"
   ]
  },
  {
   "cell_type": "code",
   "execution_count": 8,
   "id": "a6ce8dc0-8615-4fb8-b875-aad61a60eac7",
   "metadata": {},
   "outputs": [
    {
     "data": {
      "image/png": "[encoded data removed]",
      "text/plain": [
       "<Figure size 432x288 with 1 Axes>"
      ]
     },
     "metadata": {
      "needs_background": "light"
     },
     "output_type": "display_data"
    }
   ],
   "source": [
    "plt.hist(false_positives.conf, bins=20)\n",
    "plt.ylabel('number of bounding boxes')\n",
    "plt.xlabel('confidance')\n",
    "plt.title('False positives');"
   ]
  },
  {
   "cell_type": "code",
   "execution_count": 9,
   "id": "f86e28be-4e67-446c-83bc-8eb0f53f48e2",
   "metadata": {},
   "outputs": [
    {
     "name": "stdout",
     "output_type": "stream",
     "text": [
      "<class 'pandas.core.frame.DataFrame'>\n",
      "Int64Index: 537 entries, 0 to 1135\n",
      "Data columns (total 4 columns):\n",
      " #   Column    Non-Null Count  Dtype  \n",
      "---  ------    --------------  -----  \n",
      " 0   img_name  537 non-null    object \n",
      " 1   conf      537 non-null    float64\n",
      " 2   true_res  537 non-null    float64\n",
      " 3   is_valid  537 non-null    float64\n",
      "dtypes: float64(3), object(1)\n",
      "memory usage: 21.0+ KB\n"
     ]
    }
   ],
   "source": [
    "false_positives.info()"
   ]
  },
  {
   "cell_type": "code",
   "execution_count": null,
   "id": "8371296c-5418-4a7b-bccb-c7b9ec60926f",
   "metadata": {},
   "outputs": [],
   "source": []
  }
 ],
 "metadata": {
  "kernelspec": {
   "display_name": "Python 3 (ipykernel)",
   "language": "python",
   "name": "python3"
  },
  "language_info": {
   "codemirror_mode": {
    "name": "ipython",
    "version": 3
   },
   "file_extension": ".py",
   "mimetype": "text/x-python",
   "name": "python",
   "nbconvert_exporter": "python",
   "pygments_lexer": "ipython3",
   "version": "3.8.10"
  }
 },
 "nbformat": 4,
 "nbformat_minor": 5
}
